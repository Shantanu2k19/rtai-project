{
 "cells": [
  {
   "cell_type": "code",
   "execution_count": 1,
   "id": "0a9bc028",
   "metadata": {},
   "outputs": [],
   "source": [
    "import face_recognition\n",
    "import cv2\n",
    "import matplotlib.pyplot as plt\n",
    "import os\n",
    "import shutil\n",
    "import face_recognition\n",
    "from PIL import Image, ImageDraw"
   ]
  },
  {
   "cell_type": "code",
   "execution_count": 2,
   "id": "a00516f6",
   "metadata": {},
   "outputs": [],
   "source": [
    "from numpy import asarray\n",
    "from numpy import save\n",
    "from numpy import load"
   ]
  },
  {
   "cell_type": "code",
   "execution_count": null,
   "id": "faccd59b",
   "metadata": {},
   "outputs": [],
   "source": []
  },
  {
   "cell_type": "code",
   "execution_count": 10,
   "id": "f794749b",
   "metadata": {},
   "outputs": [],
   "source": [
    "facesEnc = []\n",
    "facesNam = []"
   ]
  },
  {
   "cell_type": "code",
   "execution_count": null,
   "id": "2493c9ef",
   "metadata": {},
   "outputs": [],
   "source": []
  },
  {
   "cell_type": "code",
   "execution_count": 11,
   "id": "4c9af8d6",
   "metadata": {},
   "outputs": [],
   "source": [
    "facesEnc = load('encodings.npy')\n",
    "facesEnc = list(facesEnc)"
   ]
  },
  {
   "cell_type": "code",
   "execution_count": 12,
   "id": "c4f8f94a",
   "metadata": {},
   "outputs": [],
   "source": [
    "file = open(\"names.txt\",\"r+\")\n",
    "names = file.read()\n",
    "file.close()\n",
    "names = names.split(',')\n",
    "names.remove('')\n",
    "facesNam = names"
   ]
  },
  {
   "cell_type": "code",
   "execution_count": null,
   "id": "8ca49761",
   "metadata": {},
   "outputs": [],
   "source": []
  },
  {
   "cell_type": "code",
   "execution_count": 13,
   "id": "cc1bb4fe",
   "metadata": {},
   "outputs": [],
   "source": [
    "def findPerson2(img='/home/zodiac/Desktop/rtai/data3test/10.jpg', tol=0.3):\n",
    "\n",
    "    #testing \n",
    "    test_image = face_recognition.load_image_file(img)\n",
    "    face_locations = face_recognition.face_locations(test_image)\n",
    "    all_faces = []\n",
    "    \n",
    "    if(len(face_locations)==0):\n",
    "        print(\"NO FACE FOUND\")\n",
    "        return False\n",
    "    \n",
    "    face_encodings = face_recognition.face_encodings(test_image, face_locations)\n",
    "    \n",
    "    pil_image = Image.fromarray(test_image)\n",
    "    draw = ImageDraw.Draw(pil_image)\n",
    "    \n",
    "    # Loop through faces in test image\n",
    "    for(top, right, bottom, left), face_encoding in zip(face_locations, face_encodings):\n",
    "        \n",
    "        matches = face_recognition.compare_faces(facesEnc, face_encoding, tolerance=tol)\n",
    "\n",
    "        name = \"Unknown Person\"\n",
    "\n",
    "        # If match\n",
    "        if True in matches:\n",
    "            first_match_index = matches.index(True)\n",
    "            name = facesNam[first_match_index]\n",
    "            all_faces.append(name)\n",
    "\n",
    "        # Draw box\n",
    "        draw.rectangle(((left, top), (right, bottom)), outline=(255,255,0))\n",
    "\n",
    "        # Draw label\n",
    "        text_width, text_height = draw.textsize(name)\n",
    "        draw.rectangle(((left,bottom - text_height - 10), (right, bottom)), fill=(255,255,0), outline=(255,255,0))\n",
    "        draw.text((left + 6, bottom - text_height - 5), name, fill=(0,0,0))\n",
    "\n",
    "    # Display image\n",
    "    pil_image.show()\n",
    "    return all_faces"
   ]
  },
  {
   "cell_type": "code",
   "execution_count": 14,
   "id": "d1f10e50",
   "metadata": {},
   "outputs": [
    {
     "name": "stdout",
     "output_type": "stream",
     "text": [
      "['tarun_1', 'shan_1', 'sameer_1']\n"
     ]
    }
   ],
   "source": [
    "kk = findPerson2('/home/zodiac/Pictures/Webcam/2022-04-27-161758.jpg', tol=0.4)\n",
    "\n",
    "print(kk)"
   ]
  },
  {
   "cell_type": "code",
   "execution_count": null,
   "id": "14932870",
   "metadata": {},
   "outputs": [],
   "source": []
  },
  {
   "cell_type": "code",
   "execution_count": 17,
   "id": "86c2ebe2",
   "metadata": {},
   "outputs": [
    {
     "data": {
      "text/plain": [
       "10"
      ]
     },
     "execution_count": 17,
     "metadata": {},
     "output_type": "execute_result"
    }
   ],
   "source": [
    "len(facesEnc)"
   ]
  },
  {
   "cell_type": "code",
   "execution_count": 18,
   "id": "4bf6d10f",
   "metadata": {},
   "outputs": [],
   "source": [
    "def trainAgain(f=\"/home/zodiac/Desktop/rtai/rishabh_1.jpg\"):\n",
    "    #read image\n",
    "    img = face_recognition.load_image_file(f)\n",
    "\n",
    "    #make encoding\n",
    "    enc = face_recognition.face_encodings(img)[0]\n",
    "    \n",
    "    #save\n",
    "    facesEnc.append(enc)\n",
    "    facesNam.append(\"rishabh_1\")\n",
    "    \n",
    "    #in file\n",
    "    save('encodings.npy', facesEnc)\n",
    "    file = open(\"names.txt\",\"a\")\n",
    "    file.write(\"rishabh_1,\")\n",
    "    file.close()"
   ]
  },
  {
   "cell_type": "code",
   "execution_count": 19,
   "id": "4c5f1e30",
   "metadata": {},
   "outputs": [
    {
     "data": {
      "text/plain": [
       "[]"
      ]
     },
     "execution_count": 19,
     "metadata": {},
     "output_type": "execute_result"
    }
   ],
   "source": [
    "findPerson2('/home/zodiac/Desktop/rtai/data2/rishabh/25.jpg', tol=0.4)"
   ]
  },
  {
   "cell_type": "code",
   "execution_count": 20,
   "id": "cd9a7db3",
   "metadata": {},
   "outputs": [],
   "source": [
    "trainAgain()"
   ]
  },
  {
   "cell_type": "code",
   "execution_count": 21,
   "id": "9c082fc5",
   "metadata": {},
   "outputs": [
    {
     "data": {
      "text/plain": [
       "['rishabh_1']"
      ]
     },
     "execution_count": 21,
     "metadata": {},
     "output_type": "execute_result"
    }
   ],
   "source": [
    "findPerson2('/home/zodiac/Desktop/rtai/data2/rishabh/25.jpg', tol=0.4)"
   ]
  },
  {
   "cell_type": "code",
   "execution_count": null,
   "id": "9823d905",
   "metadata": {},
   "outputs": [],
   "source": []
  },
  {
   "cell_type": "code",
   "execution_count": null,
   "id": "9b77e116",
   "metadata": {},
   "outputs": [],
   "source": []
  },
  {
   "cell_type": "code",
   "execution_count": null,
   "id": "baa07884",
   "metadata": {},
   "outputs": [],
   "source": []
  },
  {
   "cell_type": "code",
   "execution_count": null,
   "id": "10dfb7bf",
   "metadata": {},
   "outputs": [],
   "source": []
  },
  {
   "cell_type": "code",
   "execution_count": null,
   "id": "7286cbfc",
   "metadata": {},
   "outputs": [],
   "source": []
  },
  {
   "cell_type": "code",
   "execution_count": 1,
   "id": "9c72e45e",
   "metadata": {},
   "outputs": [
    {
     "name": "stdout",
     "output_type": "stream",
     "text": [
      "Start recording...\n",
      "Done.\n"
     ]
    }
   ],
   "source": [
    "from picamera import PiCamera\n",
    "import time\n",
    "camera = PiCamera()\n",
    "time.sleep(2)\n",
    "camera.resolution = (1280, 720)\n",
    "camera.vflip = True\n",
    "camera.contrast = 10\n",
    "file_name = \"/home/pi/Pictures/video_\" + str(time.time()) + \".h264\"\n",
    "print(\"Start recording...\")\n",
    "camera.start_recording(file_name)\n",
    "camera.wait_recording(5)\n",
    "camera.stop_recording()\n",
    "print(\"Done.\")"
   ]
  },
  {
   "cell_type": "code",
   "execution_count": 2,
   "id": "6365ca26",
   "metadata": {},
   "outputs": [],
   "source": [
    "from picamera import PiCamera\n",
    "from time import sleep\n",
    "import time\n",
    "camera.resolution = (200, 200)\n",
    "camera.start_preview()\n",
    "sleep(3)\n",
    "camera.capture('/home/pi/Desktop/pi-api/captured.jpg')\n",
    "camera.stop_preview()"
   ]
  },
  {
   "cell_type": "code",
   "execution_count": 7,
   "id": "5166b29f",
   "metadata": {},
   "outputs": [],
   "source": [
    "from picamera import PiCamera\n",
    "from time import sleep\n",
    "import time\n",
    "camera.resolution = (200, 200)\n",
    "camera.start_preview()\n",
    "sleep(3)\n",
    "camera.vflip = False\n",
    "camera.contrast = -12\n",
    "camera.capture('/home/pi/Desktop/pi-api/captured4.jpg')\n",
    "camera.stop_preview()"
   ]
  },
  {
   "cell_type": "code",
   "execution_count": null,
   "id": "87f19b6b",
   "metadata": {},
   "outputs": [],
   "source": [
    "camera.start_recording(output, 'yuv')\n",
    "base_image = io.BytesIO()\n",
    "\n",
    "    try:\n",
    "        print('Starting websockets thread')\n",
    "        websocket_thread.start()\n",
    "        print('Starting HTTP server thread')\n",
    "        http_thread.start()\n",
    "        print('Starting broadcast thread')\n",
    "        broadcast_thread.start()\n",
    "        time.sleep(0.5)\n",
    "\n",
    "        camera.capture(base_image, use_video_port=True, format='jpeg')\n",
    "\n",
    "        base_data = np.frombuffer(base_image.getvalue(), dtype=np.uint8)\n",
    "\n",
    "        base_img_matrix = cv2.imdecode(base_data, 0)\n",
    "\n",
    "        while True:\n",
    "            camera.wait_recording(0.25)\n",
    "            image_captured = io.BytesIO()\n",
    "\n",
    "            #insert here the code for frame analysis\n",
    "\n",
    "            camera.capture(image_captured, use_video_port=True, format='jpeg')\n",
    "            data_next = np.frombuffer(image_captured.getvalue(), dtype=np.uint8)\n",
    "            next_img_matrix = cv2.imdecode(data_next, cv2.IMREAD_GRAYSCALE)\n",
    "\n",
    "            monitor_changes(base_img_matrix, next_img_matrix)\n",
    "            image_captured.close()"
   ]
  },
  {
   "cell_type": "code",
   "execution_count": null,
   "id": "b96e4fe9",
   "metadata": {},
   "outputs": [],
   "source": []
  },
  {
   "cell_type": "code",
   "execution_count": null,
   "id": "12bf8359",
   "metadata": {},
   "outputs": [],
   "source": []
  },
  {
   "cell_type": "code",
   "execution_count": 1,
   "id": "3deb24b2",
   "metadata": {},
   "outputs": [],
   "source": [
    "from picamera import PiCamera\n",
    "from time import sleep\n",
    "import time\n",
    "\n",
    "camera = PiCamera()\n",
    "camera.start_preview()\n",
    "time.sleep(5)\n",
    "# camera.resolution = (1000, 1000)\n",
    "camera.capture('/home/pi/Desktop/pi-api/trainingData/shantanu.jpg')\n",
    "camera.stop_preview()"
   ]
  },
  {
   "cell_type": "code",
   "execution_count": null,
   "id": "9a07beaa",
   "metadata": {},
   "outputs": [],
   "source": []
  }
 ],
 "metadata": {
  "kernelspec": {
   "display_name": "Python 3 (ipykernel)",
   "language": "python",
   "name": "python3"
  },
  "language_info": {
   "codemirror_mode": {
    "name": "ipython",
    "version": 3
   },
   "file_extension": ".py",
   "mimetype": "text/x-python",
   "name": "python",
   "nbconvert_exporter": "python",
   "pygments_lexer": "ipython3",
   "version": "3.7.3"
  }
 },
 "nbformat": 4,
 "nbformat_minor": 5
}
