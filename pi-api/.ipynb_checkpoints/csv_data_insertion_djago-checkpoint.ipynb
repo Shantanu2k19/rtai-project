{
 "cells": [
  {
   "cell_type": "code",
   "execution_count": 16,
   "id": "4ddc77f3",
   "metadata": {
    "scrolled": true
   },
   "outputs": [
    {
     "name": "stdout",
     "output_type": "stream",
     "text": [
      "2K18/EC/133 Rishabh Dingliwal\n",
      "2K18/EE/027 Angshuk Basu\n",
      "2k18/EC/113 Nirdesh Mishra\n",
      "2k18/EE/015 Ajit Kumar Yadav\n",
      "2k19/EC/102 Lovish Arya\n",
      "2K19/EC/197 Tushar Prakash\n",
      "2k19/EC/185 Siddharth Basoya\n",
      "2K18/CE/083 Pratik Sharma\n",
      "2K19/EC/217 Yash Jindal\n",
      "2K18/EC/099 Mihir Kumar Jha \n",
      "2K18/EC/096 Marshal Nanda \n",
      "2K18/EC/030 Aniket Chaudhary\n",
      "2K18/EC/082 Himanshu Singh\n",
      "2K19/EC/172 Sannidhya Rawat\n",
      "2K18/EC/114 Nischit Nagesh Poojari\n",
      "2K18/EC/098 Md Nazir Husain\n",
      "2K18/EC/064 Devansh Kumar Singh\n",
      "2K19/EC/166 Samarth Singh\n",
      "2K18/ME/233 Tarun Kumar\n",
      "2K18/EE/199 Shubhanshu Jain\n",
      "2K18/CO/137 Hardik Rohilla\n",
      "2K18/EC/157 Shantanu Singh\n",
      "2K19/EC/130 Prathmesh Sharma\n",
      "2k19/EC/177 Shabana Tabassum\n",
      "2K19/EC/168 Sameer Kataria\n",
      "2k18/SE/139 Atiqullah Qaderi\n",
      "2k19/EC/105 Manav Mehrotra\n",
      "2K18/EE/247 VIVEK YADAV\n",
      "2K18/SE/080 Mohammad Elham Walizad\n",
      "2K17/EC/057 Devashish Pratap Singh\n",
      "2K18/EN/006 Aditya Yash Seth\n",
      "2K19/SE/157 yasin saifnijat\n",
      "2k18/EC/104 Mohd sameer\n",
      "2k18/EE/005 Abhishek Solanki\n",
      "2k19/EC/179 Shivam Dixit\n",
      "2K19/EC/165 Samarth Nigam\n",
      "2K19/EC/094 Khushi Jain \n",
      "2K19/EC/218 Yash Raj\n",
      "2k18/EC/101       Mitul Kumar Choudhary\n",
      "2K18/EC/097 mayank kumar jarwal\n",
      "2K18/CO/068 Aniket Kumar Biswas\n",
      "2K18/EC/102 Mohammed Intekhab Alam\n",
      "2K19/EC/192 Swastik Sharma\n",
      "2K18/EP/036 Kanishk\n",
      "2K18/ME/002 Aayaam Agarwal\n",
      "2K18/EC/063 Devansh Choudhary\n",
      "2K19/EC/133 Pritam Mittal \n",
      "2K18/EE/121 2K18/EE/199\n",
      "2K19/EC/151 Ritvik Bharti\n",
      "2K19/EC/188 Spalzes Angmo\n",
      "2K19/EC/216 Yash Hooda\n",
      " 2K19/EC/090 Kartikeya Singh Chauhan\n",
      "2K18/EE/244 VIPESH DUNKWAL\n",
      "2K18/IT/010 Ahmad Firooz\n",
      "2K19/EC/195 Tejas Jangra\n",
      "2K19/IT/028 Aozir noorestani\n"
     ]
    }
   ],
   "source": [
    "import csv\n",
    "filename = \"/home/zodiac/Desktop/rtai/notebooks/people.csv\"\n",
    "fields = []\n",
    "rows = []\n",
    "with open(filename, 'r') as csvfile:\n",
    "    csvreader = csv.reader(csvfile)\n",
    "    fields = next(csvreader)\n",
    "    for row in csvreader:\n",
    "        rows.append(row)\n",
    "\n",
    "for row in rows:\n",
    "    print(row[0],row[1])"
   ]
  },
  {
   "cell_type": "code",
   "execution_count": null,
   "id": "98e69c9f",
   "metadata": {},
   "outputs": [],
   "source": [
    "for row in rows:\n",
    "    namme = row[1]\n",
    "    roll = row[0]\n",
    "    f = student.objects.create(name=namme,rno=roll)\n",
    "    f.save()\n"
   ]
  },
  {
   "cell_type": "code",
   "execution_count": 16,
   "id": "89c17f5e",
   "metadata": {
    "scrolled": true
   },
   "outputs": [
    {
     "name": "stdout",
     "output_type": "stream",
     "text": [
      "2K18/EC/133\n",
      "2K18/EE/027\n",
      "2K18/EC/113\n",
      "2K18/EE/015\n",
      "2K19/EC/102\n",
      "2K19/EC/197\n",
      "2K19/EC/185\n",
      "2K18/CE/083\n",
      "2K19/EC/217\n",
      "2K18/EC/099\n",
      "2K18/EC/096\n",
      "2K18/EC/030\n",
      "2K18/EC/082\n",
      "2K19/EC/172\n",
      "2K18/EC/114\n",
      "2K18/EC/098\n",
      "2K18/EC/064\n",
      "2K19/EC/166\n",
      "2K18/ME/233\n",
      "2K18/EE/199\n",
      "2K18/CO/137\n",
      "2K18/EC/157\n",
      "2K19/EC/130\n",
      "2K19/EC/177\n",
      "2K19/EC/168\n",
      "2K18/SE/139\n",
      "2K19/EC/105\n",
      "2K18/EE/247\n",
      "2K18/SE/080\n",
      "2K17/EC/057\n",
      "2K18/EN/006\n",
      "2K19/SE/157\n",
      "2K18/EC/104\n",
      "2K18/EE/005\n",
      "2K19/EC/179\n",
      "2K19/EC/165\n",
      "2K19/EC/094\n",
      "2K19/EC/218\n",
      "2K18/EC/101\n",
      "2K18/EC/097\n",
      "2K18/CO/068\n",
      "2K18/EC/102\n",
      "2K19/EC/192\n",
      "2K18/EP/036\n",
      "2K18/ME/002\n",
      "2K18/EC/063\n",
      "2K19/EC/133\n",
      "2K18/EE/121\n",
      "2K19/EC/151\n",
      "2K19/EC/188\n",
      "2K19/EC/216\n",
      "2K19/EC/090\n",
      "2K18/EE/244\n",
      "2K18/IT/010\n",
      "2K19/EC/195\n",
      "2K19/IT/028\n"
     ]
    }
   ],
   "source": [
    "import csv\n",
    "filename = \"/home/zodiac/Desktop/rtai/notebooks/peoples2.csv\"\n",
    "\n",
    "fields = []\n",
    "rows = []\n",
    "with open(filename, 'r') as csvfile:\n",
    "    csvreader = csv.reader(csvfile)\n",
    "    fields = next(csvreader)\n",
    "    for row in csvreader:\n",
    "        rows.append(row)\n",
    "\n",
    "for row in rows:\n",
    "    print(row[0])"
   ]
  },
  {
   "cell_type": "code",
   "execution_count": 10,
   "id": "3d70e830",
   "metadata": {
    "scrolled": true
   },
   "outputs": [
    {
     "name": "stdout",
     "output_type": "stream",
     "text": [
      "SHAN\n"
     ]
    }
   ],
   "source": [
    "kk = 'shan'\n",
    "kk = kk.upper()\n",
    "print(kk)"
   ]
  },
  {
   "cell_type": "code",
   "execution_count": 15,
   "id": "79d63f5c",
   "metadata": {},
   "outputs": [],
   "source": [
    "filename = \"/home/zodiac/Desktop/rtai/notebooks/peoples2.csv\"\n",
    "\n",
    "# writing to csv file \n",
    "with open(filename, 'w') as csvfile: \n",
    "    csvwriter = csv.writer(csvfile) \n",
    "    csvwriter.writerow(fields) \n",
    "        \n",
    "    # writing the data rows \n",
    "    csvwriter.writerows(rows)"
   ]
  },
  {
   "cell_type": "code",
   "execution_count": 12,
   "id": "37dbe623",
   "metadata": {},
   "outputs": [],
   "source": [
    "for row in rows:\n",
    "    row[0]=row[0].upper()"
   ]
  },
  {
   "cell_type": "code",
   "execution_count": 14,
   "id": "96072436",
   "metadata": {},
   "outputs": [
    {
     "data": {
      "text/plain": [
       "56"
      ]
     },
     "execution_count": 14,
     "metadata": {},
     "output_type": "execute_result"
    }
   ],
   "source": [
    "len(rows)"
   ]
  },
  {
   "cell_type": "code",
   "execution_count": null,
   "id": "d601d88a",
   "metadata": {},
   "outputs": [],
   "source": []
  }
 ],
 "metadata": {
  "kernelspec": {
   "display_name": "Python 3 (ipykernel)",
   "language": "python",
   "name": "python3"
  },
  "language_info": {
   "codemirror_mode": {
    "name": "ipython",
    "version": 3
   },
   "file_extension": ".py",
   "mimetype": "text/x-python",
   "name": "python",
   "nbconvert_exporter": "python",
   "pygments_lexer": "ipython3",
   "version": "3.7.3"
  }
 },
 "nbformat": 4,
 "nbformat_minor": 5
}
